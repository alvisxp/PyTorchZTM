{
 "cells": [
  {
   "cell_type": "code",
   "execution_count": 1,
   "metadata": {},
   "outputs": [],
   "source": [
    "import torch \n",
    "from torch import nn\n",
    "import numpy as np\n",
    "import matplotlib.pyplot as plt\n"
   ]
  },
  {
   "cell_type": "code",
   "execution_count": 2,
   "metadata": {},
   "outputs": [
    {
     "name": "stdout",
     "output_type": "stream",
     "text": [
      "Device: cuda\n"
     ]
    }
   ],
   "source": [
    "device = \"cuda\" if torch.cuda.is_available() else \"cpu\"\n",
    "print(f\"Device: {device}\")"
   ]
  },
  {
   "cell_type": "code",
   "execution_count": 3,
   "metadata": {},
   "outputs": [],
   "source": [
    "weight = 0.8\n",
    "bias = 0.2\n",
    "\n",
    "start = 0\n",
    "end = 1\n",
    "step = 0.02\n",
    "\n",
    "X = torch.arange(start, end, step).unsqueeze(dim=1)\n",
    "y = weight * X + bias\n",
    "\n",
    "train_split = int(0.8 *len(X))\n",
    "X_train, y_train = X[:train_split], y[:train_split]\n",
    "X_test, y_test = X[train_split:], y[train_split:]"
   ]
  },
  {
   "cell_type": "code",
   "execution_count": 4,
   "metadata": {},
   "outputs": [],
   "source": [
    "\n",
    "def plot_predictions(train_data = X_train, train_label = y_train, test_data = X_test, test_label = y_test, predictions = None):\n",
    "\t\n",
    "    plt.figure(figsize = (10,7))\n",
    "    plt.scatter(train_data, train_label, c=\"k\", s=4, label=\"Training data\")\n",
    "    plt.scatter(test_data, test_label, c=\"r\", s=4, label=\"Testing data\")\n",
    "    \n",
    "    if predictions is not None:\n",
    "        plt.scatter(test_data, predictions, c=\"b\", s=4, label=\"Predictions\")\n",
    "\t\n",
    "    plt.legend(prop={\"size\": 14})"
   ]
  },
  {
   "cell_type": "code",
   "execution_count": 5,
   "metadata": {},
   "outputs": [
    {
     "name": "stdout",
     "output_type": "stream",
     "text": [
      "40 10 40 10\n"
     ]
    },
    {
     "data": {
      "image/png": "[encoded data removed]",
      "text/plain": [
       "<Figure size 1000x700 with 1 Axes>"
      ]
     },
     "metadata": {},
     "output_type": "display_data"
    }
   ],
   "source": [
    "\n",
    "print(len(X_train), len(X_test), len(y_train), len(y_test))\n",
    "\n",
    "plot_predictions(X_train, y_train, X_test, y_test) \n"
   ]
  },
  {
   "cell_type": "code",
   "execution_count": 6,
   "metadata": {},
   "outputs": [
    {
     "data": {
      "text/plain": [
       "(LinearReg(\n",
       "   (linear_layer): Linear(in_features=1, out_features=1, bias=True)\n",
       " ),\n",
       " OrderedDict([('linear_layer.weight', tensor([[0.7645]])),\n",
       "              ('linear_layer.bias', tensor([0.8300]))]))"
      ]
     },
     "execution_count": 6,
     "metadata": {},
     "output_type": "execute_result"
    }
   ],
   "source": [
    "\n",
    "class LinearReg(nn.Module):\n",
    "\tdef __init__(self):\n",
    "\t\tsuper().__init__()\n",
    "\t\tself.linear_layer = nn.Linear(in_features = 1, \n",
    "\t\t\t\tout_features = 1)\n",
    "\tdef forward(self, x: torch.Tensor) -> torch.Tensor:\n",
    "\t\treturn self.linear_layer(x)\n",
    "\t\t\n",
    "torch.manual_seed(42)\n",
    "model1 = LinearReg()\n",
    "model1, model1.state_dict()"
   ]
  },
  {
   "cell_type": "code",
   "execution_count": 7,
   "metadata": {},
   "outputs": [],
   "source": [
    "loss_fn = nn.L1Loss()\n",
    "\n",
    "optimizer = torch.optim.SGD(params = model1.parameters(), lr = 0.01)"
   ]
  },
  {
   "cell_type": "code",
   "execution_count": 8,
   "metadata": {},
   "outputs": [
    {
     "data": {
      "text/plain": [
       "device(type='cpu')"
      ]
     },
     "execution_count": 8,
     "metadata": {},
     "output_type": "execute_result"
    }
   ],
   "source": [
    "next(model1.parameters()).device"
   ]
  },
  {
   "cell_type": "code",
   "execution_count": 9,
   "metadata": {},
   "outputs": [
    {
     "data": {
      "text/plain": [
       "LinearReg(\n",
       "  (linear_layer): Linear(in_features=1, out_features=1, bias=True)\n",
       ")"
      ]
     },
     "execution_count": 9,
     "metadata": {},
     "output_type": "execute_result"
    }
   ],
   "source": [
    "model1.to(device)"
   ]
  },
  {
   "cell_type": "code",
   "execution_count": 10,
   "metadata": {},
   "outputs": [],
   "source": [
    "X_train = X_train.to(device)\n",
    "X_test = X_test.to(device)\n",
    "y_train = y_train.to(device)\n",
    "y_test = y_test.to(device)"
   ]
  },
  {
   "cell_type": "code",
   "execution_count": 11,
   "metadata": {},
   "outputs": [
    {
     "name": "stdout",
     "output_type": "stream",
     "text": [
      "Epoch: 0 | Loss: 0.6161779165267944 | Test Loss: 0.5849762558937073\n",
      "Epoch: 10 | Loss: 0.5009680986404419 | Test Loss: 0.45026642084121704\n",
      "Epoch: 20 | Loss: 0.3857581913471222 | Test Loss: 0.3155565857887268\n",
      "Epoch: 30 | Loss: 0.2705483138561249 | Test Loss: 0.180846706032753\n",
      "Epoch: 40 | Loss: 0.15533843636512756 | Test Loss: 0.046136897057294846\n",
      "Epoch: 50 | Loss: 0.05875825881958008 | Test Loss: 0.06886561214923859\n",
      "Epoch: 60 | Loss: 0.04580378159880638 | Test Loss: 0.09473040699958801\n",
      "Epoch: 70 | Loss: 0.041819483041763306 | Test Loss: 0.09405827522277832\n",
      "Epoch: 80 | Loss: 0.03831038996577263 | Test Loss: 0.08853326737880707\n",
      "Epoch: 90 | Loss: 0.034879546612501144 | Test Loss: 0.08094760775566101\n",
      "Epoch: 100 | Loss: 0.03144557774066925 | Test Loss: 0.07267507165670395\n",
      "Epoch: 110 | Loss: 0.028006771579384804 | Test Loss: 0.06440252810716629\n",
      "Epoch: 120 | Loss: 0.024577612057328224 | Test Loss: 0.056816864758729935\n",
      "Epoch: 130 | Loss: 0.021141953766345978 | Test Loss: 0.04854437708854675\n",
      "Epoch: 140 | Loss: 0.017704110592603683 | Test Loss: 0.040958791971206665\n",
      "Epoch: 150 | Loss: 0.014275657944381237 | Test Loss: 0.03268631175160408\n",
      "Epoch: 160 | Loss: 0.010838326066732407 | Test Loss: 0.02441384270787239\n",
      "Epoch: 170 | Loss: 0.007402162533253431 | Test Loss: 0.016828244552016258\n",
      "Epoch: 180 | Loss: 0.0039735035970807076 | Test Loss: 0.008555757813155651\n",
      "Epoch: 190 | Loss: 0.008990190923213959 | Test Loss: 0.005145949311554432\n",
      "Epoch: 200 | Loss: 0.008990190923213959 | Test Loss: 0.005145949311554432\n",
      "Epoch: 210 | Loss: 0.008990190923213959 | Test Loss: 0.005145949311554432\n",
      "Epoch: 220 | Loss: 0.008990190923213959 | Test Loss: 0.005145949311554432\n",
      "Epoch: 230 | Loss: 0.008990190923213959 | Test Loss: 0.005145949311554432\n",
      "Epoch: 240 | Loss: 0.008990190923213959 | Test Loss: 0.005145949311554432\n",
      "Epoch: 250 | Loss: 0.008990190923213959 | Test Loss: 0.005145949311554432\n",
      "Epoch: 260 | Loss: 0.008990190923213959 | Test Loss: 0.005145949311554432\n",
      "Epoch: 270 | Loss: 0.008990190923213959 | Test Loss: 0.005145949311554432\n",
      "Epoch: 280 | Loss: 0.008990190923213959 | Test Loss: 0.005145949311554432\n",
      "Epoch: 290 | Loss: 0.008990190923213959 | Test Loss: 0.005145949311554432\n"
     ]
    }
   ],
   "source": [
    "torch.manual_seed(42)\n",
    "\n",
    "epochs = 300\n",
    "\n",
    "for epoch in range(epochs):\n",
    "\t\n",
    "\tmodel1.train()\n",
    "\n",
    "\ty_pred = model1(X_train)\n",
    "\n",
    "\tloss = loss_fn(y_pred, y_train)\n",
    "\n",
    "\toptimizer.zero_grad()\n",
    "\n",
    "\tloss.backward()\n",
    "\n",
    "\toptimizer.step()\n",
    "\n",
    "\tmodel1.eval()\n",
    "\n",
    "\twith torch.inference_mode():\n",
    "\t\ttest_pred = model1(X_test)\n",
    "\n",
    "\t\ttest_loss = loss_fn(test_pred, y_test)\n",
    "\n",
    "\tif epoch % 10 == 0:\n",
    "\t\tprint(f\"Epoch: {epoch} | Loss: {loss} | Test Loss: {test_loss}\")\n"
   ]
  },
  {
   "cell_type": "code",
   "execution_count": 12,
   "metadata": {},
   "outputs": [
    {
     "data": {
      "text/plain": [
       "OrderedDict([('linear_layer.weight', tensor([[0.7987]], device='cuda:0')),\n",
       "             ('linear_layer.bias', tensor([0.2095], device='cuda:0'))])"
      ]
     },
     "execution_count": 12,
     "metadata": {},
     "output_type": "execute_result"
    }
   ],
   "source": [
    "model1.state_dict()"
   ]
  },
  {
   "cell_type": "code",
   "execution_count": 13,
   "metadata": {},
   "outputs": [
    {
     "name": "stdout",
     "output_type": "stream",
     "text": [
      "The model learned the following values for weights and bias:\n",
      "OrderedDict([('linear_layer.weight', tensor([[0.7987]], device='cuda:0')), ('linear_layer.bias', tensor([0.2095], device='cuda:0'))])\n",
      "And the original values for weights and bias are:\n",
      "weights: 0.8, bias: 0.2\n"
     ]
    }
   ],
   "source": [
    "print(\"The model learned the following values for weights and bias:\")\n",
    "print(model1.state_dict())\n",
    "print(\"And the original values for weights and bias are:\")\n",
    "print(f\"weights: {weight}, bias: {bias}\")"
   ]
  },
  {
   "cell_type": "code",
   "execution_count": 14,
   "metadata": {},
   "outputs": [
    {
     "data": {
      "text/plain": [
       "tensor([[0.8484],\n",
       "        [0.8644],\n",
       "        [0.8804],\n",
       "        [0.8964],\n",
       "        [0.9123],\n",
       "        [0.9283],\n",
       "        [0.9443],\n",
       "        [0.9603],\n",
       "        [0.9762],\n",
       "        [0.9922]])"
      ]
     },
     "execution_count": 14,
     "metadata": {},
     "output_type": "execute_result"
    }
   ],
   "source": [
    "model1.eval()\n",
    "with torch.inference_mode():\n",
    "    y_preds = model1(X_test)\n",
    "\n",
    "y_preds.cpu()"
   ]
  },
  {
   "cell_type": "code",
   "execution_count": 15,
   "metadata": {},
   "outputs": [
    {
     "data": {
      "image/png": "[encoded data removed]",
      "text/plain": [
       "<Figure size 1000x700 with 1 Axes>"
      ]
     },
     "metadata": {},
     "output_type": "display_data"
    }
   ],
   "source": [
    "plot_predictions(predictions=y_preds.cpu())"
   ]
  },
  {
   "cell_type": "code",
   "execution_count": 17,
   "metadata": {},
   "outputs": [
    {
     "name": "stdout",
     "output_type": "stream",
     "text": [
      "Saving model to models/workflow_model1.pth\n"
     ]
    }
   ],
   "source": [
    "from pathlib import Path\n",
    "\n",
    "MODEL_PATH = Path(\"models\")\n",
    "MODEL_PATH.mkdir(parents = True, exist_ok = 'True')\n",
    "\n",
    "MODEL_NAME = \"workflow_model1.pth\"\n",
    "MODEL_SAVE_PATH = MODEL_PATH / MODEL_NAME\n",
    "\n",
    "print(f\"Saving model to {MODEL_SAVE_PATH}\")\n",
    "torch.save(obj = model1, f = MODEL_SAVE_PATH)\n"
   ]
  },
  {
   "cell_type": "code",
   "execution_count": 22,
   "metadata": {},
   "outputs": [
    {
     "name": "stdout",
     "output_type": "stream",
     "text": [
      "Loaded Model: \n",
      " LinearReg(\n",
      "  (linear_layer): Linear(in_features=1, out_features=1, bias=True)\n",
      ")\n",
      "Device: \n",
      " cuda:0\n"
     ]
    }
   ],
   "source": [
    "loadedmodel1 = LinearReg()\n",
    "\n",
    "loadedmodel1 = torch.load((MODEL_SAVE_PATH))\n",
    "\n",
    "loadedmodel1.to(device)\n",
    "\n",
    "print(f\"Loaded Model: \\n {loadedmodel1}\")\n",
    "print(f\"Device: \\n {next(loadedmodel1.parameters()).device}\")"
   ]
  },
  {
   "cell_type": "code",
   "execution_count": 23,
   "metadata": {},
   "outputs": [
    {
     "data": {
      "text/plain": [
       "tensor([[True],\n",
       "        [True],\n",
       "        [True],\n",
       "        [True],\n",
       "        [True],\n",
       "        [True],\n",
       "        [True],\n",
       "        [True],\n",
       "        [True],\n",
       "        [True]], device='cuda:0')"
      ]
     },
     "execution_count": 23,
     "metadata": {},
     "output_type": "execute_result"
    }
   ],
   "source": [
    "loadedmodel1.eval()\n",
    "\n",
    "with torch.inference_mode():\n",
    "    loadedmodel1_preds = loadedmodel1(X_test)\n",
    "\n",
    "y_preds == loadedmodel1_preds"
   ]
  }
 ],
 "metadata": {
  "kernelspec": {
   "display_name": "torenv",
   "language": "python",
   "name": "python3"
  },
  "language_info": {
   "codemirror_mode": {
    "name": "ipython",
    "version": 3
   },
   "file_extension": ".py",
   "mimetype": "text/x-python",
   "name": "python",
   "nbconvert_exporter": "python",
   "pygments_lexer": "ipython3",
   "version": "3.10.9"
  },
  "orig_nbformat": 4
 },
 "nbformat": 4,
 "nbformat_minor": 2
}
